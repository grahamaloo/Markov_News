{
 "cells": [
  {
   "cell_type": "code",
   "execution_count": 1,
   "metadata": {
    "collapsed": false
   },
   "outputs": [],
   "source": [
    "# python3\n",
    "import os\n",
    "from urllib.request import urlopen\n",
    "import webbrowser\n",
    "import pandas as pd\n",
    "from bs4 import BeautifulSoup"
   ]
  },
  {
   "cell_type": "code",
   "execution_count": 2,
   "metadata": {
    "collapsed": true
   },
   "outputs": [],
   "source": [
    "import re"
   ]
  },
  {
   "cell_type": "markdown",
   "metadata": {},
   "source": [
    "## Scrape URLS "
   ]
  },
  {
   "cell_type": "markdown",
   "metadata": {},
   "source": [
    "### Snapshots of politcs section of news websites over the week 2/10-2-16"
   ]
  },
  {
   "cell_type": "code",
   "execution_count": 3,
   "metadata": {
    "collapsed": false
   },
   "outputs": [],
   "source": [
    "fox_urls = ['https://web.archive.org/web/20170225100230/http://www.foxnews.com/politics.html',\n",
    "            'https://web.archive.org/web/20170224185300/http://www.foxnews.com/politics.html',\n",
    "           'https://web.archive.org/web/20170223134746/http://www.foxnews.com/politics.html',\n",
    "           'https://web.archive.org/web/20170222171145/http://www.foxnews.com/politics.html',\n",
    "           'https://web.archive.org/web/20170221224745/http://www.foxnews.com/politics.html',\n",
    "           'https://web.archive.org/web/20170220224305/http://www.foxnews.com/politics.html',\n",
    "           'https://web.archive.org/web/20170219182238/http://www.foxnews.com/politics.html']\n",
    "\n",
    "breitbart_urls = ['https://web.archive.org/web/20170225191025/http://www.breitbart.com/big-government/',\n",
    "                 'https://web.archive.org/web/20170224212301/http://www.breitbart.com/big-government/',\n",
    "                 'https://web.archive.org/web/20170223234659/http://www.breitbart.com/big-government/',\n",
    "                 'https://web.archive.org/web/20170222233839/http://www.breitbart.com/big-government/',\n",
    "                 'https://web.archive.org/web/20170221220822/http://www.breitbart.com/big-government/']\n",
    "\n",
    "huffpost_urls = ['https://web.archive.org/web/20170225191519/http://www.huffingtonpost.com/section/politics',\n",
    "                 'https://web.archive.org/web/20170224192029/http://www.huffingtonpost.com/section/politics',\n",
    "                'https://web.archive.org/web/20170221221317/http://www.huffingtonpost.com/section/politics',\n",
    "                 'https://web.archive.org/web/20170222211843/http://www.huffingtonpost.com/section/politics',\n",
    "                'https://web.archive.org/web/20170220231829/http://www.huffingtonpost.com/section/politics']\n",
    "\n",
    "nyt_urls = ['https://web.archive.org/web/20170225040536/https://www.nytimes.com/pages/politics/index.html',   \n",
    "            'https://web.archive.org/web/20170224025710/https://www.nytimes.com/pages/politics/index.html',\n",
    "           'https://web.archive.org/web/20170223125613/https://www.nytimes.com/pages/politics/index.html',\n",
    "           'https://web.archive.org/web/20170222111155/https://www.nytimes.com/pages/politics/index.html',\n",
    "           'https://web.archive.org/web/20170221093125/https://www.nytimes.com/pages/politics/index.html',\n",
    "           'https://web.archive.org/web/20170220082925/https://www.nytimes.com/pages/politics/index.html',\n",
    "           'https://web.archive.org/web/20170219093118/https://www.nytimes.com/pages/politics/index.html']"
   ]
  },
  {
   "cell_type": "code",
   "execution_count": 4,
   "metadata": {
    "collapsed": true
   },
   "outputs": [],
   "source": [
    "def extract_links(url):\n",
    "    \"\"\"\n",
    "    Extract links from url\n",
    "    create parsed soup object that is url\n",
    "    <a> tag defines a hyperlink\n",
    "    <href> specifies the URL of the page the link goes to\n",
    "    \"\"\"\n",
    "    soup = BeautifulSoup(urlopen(url), \"html.parser\") \n",
    "\n",
    "    links = []\n",
    "    for link in soup.findAll('a'):\n",
    "        links.append(link.get('href'))\n",
    "\n",
    "    return links"
   ]
  },
  {
   "cell_type": "markdown",
   "metadata": {},
   "source": [
    "### Get Relevant Article URLS"
   ]
  },
  {
   "cell_type": "code",
   "execution_count": 5,
   "metadata": {
    "collapsed": true
   },
   "outputs": [],
   "source": [
    "def find_section_links(source_urls,link_list,pattern_match, pattern_badmatch = None):\n",
    "    for url in source_urls:\n",
    "        all_links = extract_links(url)\n",
    "        for link in all_links:\n",
    "            if(link):\n",
    "                politics_link = re.findall(pattern_match,link)\n",
    "                if pattern_badmatch: \n",
    "                    bad_match = re.findall(pattern_badmatch,link)\n",
    "                else:\n",
    "                    bad_match = False\n",
    "                if politics_link and not bad_match:\n",
    "                    politics_link= politics_link[0]\n",
    "                    if politics_link not in link_list:\n",
    "                        link_list.append(politics_link)\n",
    "    return link_list"
   ]
  },
  {
   "cell_type": "code",
   "execution_count": 247,
   "metadata": {
    "collapsed": false
   },
   "outputs": [],
   "source": [
    "fox_pol_links = find_section_links(fox_urls,[],r\"http://www.foxnews.com/politics/2017/02/2.*\")"
   ]
  },
  {
   "cell_type": "code",
   "execution_count": 9,
   "metadata": {
    "collapsed": false,
    "scrolled": true
   },
   "outputs": [],
   "source": [
    "breitbart_pol_links = find_section_links(breitbart_urls,[],r\"http://www.breitbart.com/big-government/2017/02/2.*\",r\"#disqus_thread\")"
   ]
  },
  {
   "cell_type": "code",
   "execution_count": 241,
   "metadata": {
    "collapsed": false,
    "scrolled": true
   },
   "outputs": [],
   "source": [
    "nyt_pol_links = find_section_links(nyt_urls,[],r\"http://www.nytimes.com/2017/02/2\\d/us/politics/.*\")"
   ]
  },
  {
   "cell_type": "code",
   "execution_count": 323,
   "metadata": {
    "collapsed": false
   },
   "outputs": [],
   "source": [
    "huffpost_pol_links = find_section_links(huffpost_urls,[],r\"http://www.huffingtonpost.com/entry/.*\")"
   ]
  },
  {
   "cell_type": "code",
   "execution_count": 10,
   "metadata": {
    "collapsed": false,
    "scrolled": true
   },
   "outputs": [],
   "source": [
    "#resample to get fewer articles\n",
    "breitbart_pol_links = breitbart_pol_links[1::2]\n",
    "huffpost_pol_links = huffpost_pol_links[1::3]"
   ]
  },
  {
   "cell_type": "markdown",
   "metadata": {},
   "source": [
    "### Download, Parse & Combine Article Full Texts"
   ]
  },
  {
   "cell_type": "code",
   "execution_count": 11,
   "metadata": {
    "collapsed": true
   },
   "outputs": [],
   "source": [
    "from newspaper import Article"
   ]
  },
  {
   "cell_type": "code",
   "execution_count": 13,
   "metadata": {
    "collapsed": true
   },
   "outputs": [],
   "source": [
    "def write_full_articles(link_list,filename,file_use):\n",
    "    f = open(filename,file_use)\n",
    "    for link in link_list:\n",
    "        article = Article(link)\n",
    "        article.download()\n",
    "        article.parse()\n",
    "        f.write(article.text)\n",
    "    f.close()"
   ]
  },
  {
   "cell_type": "code",
   "execution_count": 252,
   "metadata": {
    "collapsed": true
   },
   "outputs": [],
   "source": [
    "write_full_articles(fox_pol_links,'data/fox_pol_feb_20_26.txt','w')"
   ]
  },
  {
   "cell_type": "code",
   "execution_count": 14,
   "metadata": {
    "collapsed": true
   },
   "outputs": [],
   "source": [
    "write_full_articles(breitbart_pol_links,'data/breitbart_pol_feb_20_26.txt','w')"
   ]
  },
  {
   "cell_type": "code",
   "execution_count": 200,
   "metadata": {
    "collapsed": true
   },
   "outputs": [],
   "source": [
    "#write_full_articles(nyt_pol_links,'data/nyt_pol_feb_20_26.txt')"
   ]
  },
  {
   "cell_type": "code",
   "execution_count": 326,
   "metadata": {
    "collapsed": true
   },
   "outputs": [],
   "source": [
    "write_full_articles(huffpost_pol_links,'data/huffpost_pol_feb_20_26.txt','w')"
   ]
  },
  {
   "cell_type": "markdown",
   "metadata": {},
   "source": [
    "### Import More Sources for NYT "
   ]
  },
  {
   "cell_type": "code",
   "execution_count": 230,
   "metadata": {
    "collapsed": true
   },
   "outputs": [],
   "source": [
    "import xml.etree.ElementTree as ET"
   ]
  },
  {
   "cell_type": "code",
   "execution_count": 231,
   "metadata": {
    "collapsed": true
   },
   "outputs": [],
   "source": [
    "#nyt_pol_2_25_RSS.xml is saved RSS Feed http://www.nytimes.com/services/xml/rss/index.html\n",
    "#from section US>Politics on 2/25\n",
    "tree = ET.parse('nyt_pol_2_25_RSS.xml')\n",
    "root = tree.getroot()\n",
    "channel = root.findall(\"./channel\")"
   ]
  },
  {
   "cell_type": "code",
   "execution_count": 243,
   "metadata": {
    "collapsed": true
   },
   "outputs": [],
   "source": [
    "for item in channel[0].findall('item'):\n",
    "    link= item.find('link').text\n",
    "    politics_link = re.findall(r\"http://www.nytimes.com/2017/02/2\\d/us/politics/.*\",link)\n",
    "    if politics_link:\n",
    "        trunc_link = re.findall(\"(.*)\\?partner=rss&emc=rss\",link)\n",
    "        if trunc_link[0] not in nyt_pol_links:\n",
    "            nyt_pol_links.append(trunc_link[0])"
   ]
  },
  {
   "cell_type": "code",
   "execution_count": 245,
   "metadata": {
    "collapsed": true
   },
   "outputs": [],
   "source": [
    "write_full_articles(nyt_pol_links,'data/nyt_pol_feb_20_26.txt','w')"
   ]
  },
  {
   "cell_type": "code",
   "execution_count": null,
   "metadata": {
    "collapsed": true
   },
   "outputs": [],
   "source": []
  }
 ],
 "metadata": {
  "anaconda-cloud": {},
  "kernelspec": {
   "display_name": "Python [Root]",
   "language": "python",
   "name": "Python [Root]"
  },
  "language_info": {
   "codemirror_mode": {
    "name": "ipython",
    "version": 3
   },
   "file_extension": ".py",
   "mimetype": "text/x-python",
   "name": "python",
   "nbconvert_exporter": "python",
   "pygments_lexer": "ipython3",
   "version": "3.5.2"
  }
 },
 "nbformat": 4,
 "nbformat_minor": 1
}
