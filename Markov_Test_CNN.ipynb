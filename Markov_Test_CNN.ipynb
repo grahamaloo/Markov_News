{
 "cells": [
  {
   "cell_type": "code",
   "execution_count": 20,
   "metadata": {
    "collapsed": false
   },
   "outputs": [],
   "source": [
    "#import packages\n",
    "import markovify #https://github.com/jsvine/markovify\n",
    "import pandas as pd"
   ]
  },
  {
   "cell_type": "code",
   "execution_count": 21,
   "metadata": {
    "collapsed": true
   },
   "outputs": [],
   "source": [
    "#text file containing text from recent CNN articles from politics section \n",
    "#created using newspaper package: https://github.com/codelucas/newspaper\n",
    "with open(\"cnn_politics.txt\") as f:\n",
    "    text = f.read()"
   ]
  },
  {
   "cell_type": "code",
   "execution_count": 22,
   "metadata": {
    "collapsed": true
   },
   "outputs": [],
   "source": [
    "#create markov chain in the form of nested dictionaries: {(n-gram):{next_word:count}}\n",
    "#state size = n in n-gram (standard is 2 or 3)\n",
    "text_model = markovify.Text(text,state_size=2)"
   ]
  },
  {
   "cell_type": "code",
   "execution_count": 23,
   "metadata": {
    "collapsed": false
   },
   "outputs": [
    {
     "name": "stdout",
     "output_type": "stream",
     "text": [
      "He has to report to fit the traditional profile of conservatism, he is unable to get them approved by the turnout.\n",
      "And since then, I've watched many other leaders, almost all other leaders from almost all of the plants is the notion of a Republican Party that finds its traditional social, economic and national security adviser.\n",
      "The senior administration official speaking after the travel ban.\n",
      "Depleted, it's depleted - it won't be able to get into Cotton's town hall.\n"
     ]
    }
   ],
   "source": [
    "#make sentences using chain\n",
    "for i in range(4):\n",
    "    print(text_model.make_sentence())"
   ]
  },
  {
   "cell_type": "code",
   "execution_count": 24,
   "metadata": {
    "collapsed": false
   },
   "outputs": [],
   "source": [
    "chain = text_model.chain.model"
   ]
  },
  {
   "cell_type": "code",
   "execution_count": 25,
   "metadata": {
    "collapsed": false
   },
   "outputs": [],
   "source": [
    "#create transition matrix dataframe from chain\n",
    "trans_matrix =pd.DataFrame.from_dict(chain)"
   ]
  },
  {
   "cell_type": "code",
   "execution_count": 26,
   "metadata": {
    "collapsed": false,
    "scrolled": false
   },
   "outputs": [
    {
     "data": {
      "text/plain": [
       "{'Department': 1,\n",
       " 'Eastern': 1,\n",
       " 'Florida': 1,\n",
       " 'House': 1,\n",
       " 'Middle': 2,\n",
       " 'Obama': 1,\n",
       " 'Senate': 1,\n",
       " 'US': 3,\n",
       " 'US.': 1,\n",
       " 'United': 2,\n",
       " 'White': 3,\n",
       " 'business': 1,\n",
       " 'case.': 1,\n",
       " 'coming': 1,\n",
       " 'country': 1,\n",
       " \"country's\": 1,\n",
       " 'county,': 1,\n",
       " 'crowd.': 1,\n",
       " 'days': 1,\n",
       " 'debate': 1,\n",
       " 'discussions': 1,\n",
       " 'district': 1,\n",
       " 'electric': 1,\n",
       " 'ensuing': 1,\n",
       " 'form': 1,\n",
       " 'height': 1,\n",
       " 'history': 1,\n",
       " 'hopes': 1,\n",
       " 'inner': 1,\n",
       " 'intelligence': 2,\n",
       " 'last': 2,\n",
       " 'making': 1,\n",
       " 'meantime,': 1,\n",
       " 'media,': 1,\n",
       " 'middle': 1,\n",
       " 'midst': 1,\n",
       " 'morning': 1,\n",
       " 'morning,': 1,\n",
       " 'most': 1,\n",
       " 'name': 1,\n",
       " 'papers.': 1,\n",
       " 'past.': 1,\n",
       " 'process': 1,\n",
       " 'repeal': 1,\n",
       " 'search': 1,\n",
       " 'southern': 1,\n",
       " 'story,': 1,\n",
       " 'talks.': 2,\n",
       " 'tattoo': 1,\n",
       " 'tattoo,': 1,\n",
       " 'time': 1,\n",
       " 'weeks': 2,\n",
       " 'world': 1,\n",
       " 'world,': 1}"
      ]
     },
     "execution_count": 26,
     "metadata": {},
     "output_type": "execute_result"
    }
   ],
   "source": [
    "#from observation of the df, it is not clear that there are non-NAN values, so we can check by comparing the following outputs:\n",
    "chain[('in', 'the')]\n"
   ]
  },
  {
   "cell_type": "code",
   "execution_count": 27,
   "metadata": {
    "collapsed": false
   },
   "outputs": [
    {
     "data": {
      "text/plain": [
       "Department      1.0\n",
       "Eastern         1.0\n",
       "Florida         1.0\n",
       "House           1.0\n",
       "Middle          2.0\n",
       "Obama           1.0\n",
       "Senate          1.0\n",
       "US              3.0\n",
       "US.             1.0\n",
       "United          2.0\n",
       "White           3.0\n",
       "business        1.0\n",
       "case.           1.0\n",
       "coming          1.0\n",
       "country         1.0\n",
       "country's       1.0\n",
       "county,         1.0\n",
       "crowd.          1.0\n",
       "days            1.0\n",
       "debate          1.0\n",
       "discussions     1.0\n",
       "district        1.0\n",
       "electric        1.0\n",
       "ensuing         1.0\n",
       "form            1.0\n",
       "height          1.0\n",
       "history         1.0\n",
       "hopes           1.0\n",
       "inner           1.0\n",
       "intelligence    2.0\n",
       "last            2.0\n",
       "making          1.0\n",
       "meantime,       1.0\n",
       "media,          1.0\n",
       "middle          1.0\n",
       "midst           1.0\n",
       "morning         1.0\n",
       "morning,        1.0\n",
       "most            1.0\n",
       "name            1.0\n",
       "papers.         1.0\n",
       "past.           1.0\n",
       "process         1.0\n",
       "repeal          1.0\n",
       "search          1.0\n",
       "southern        1.0\n",
       "story,          1.0\n",
       "talks.          2.0\n",
       "tattoo          1.0\n",
       "tattoo,         1.0\n",
       "time            1.0\n",
       "weeks           2.0\n",
       "world           1.0\n",
       "world,          1.0\n",
       "Name: the, dtype: float64"
      ]
     },
     "execution_count": 27,
     "metadata": {},
     "output_type": "execute_result"
    }
   ],
   "source": [
    "trans_matrix['in']['the'][trans_matrix['in']['the'].notnull()]"
   ]
  },
  {
   "cell_type": "code",
   "execution_count": null,
   "metadata": {
    "collapsed": true
   },
   "outputs": [],
   "source": []
  }
 ],
 "metadata": {
  "kernelspec": {
   "display_name": "Python 3",
   "language": "python",
   "name": "python3"
  },
  "language_info": {
   "codemirror_mode": {
    "name": "ipython",
    "version": 3
   },
   "file_extension": ".py",
   "mimetype": "text/x-python",
   "name": "python",
   "nbconvert_exporter": "python",
   "pygments_lexer": "ipython3",
   "version": "3.6.0"
  }
 },
 "nbformat": 4,
 "nbformat_minor": 2
}
