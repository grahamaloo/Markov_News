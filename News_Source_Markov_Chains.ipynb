{
 "cells": [
  {
   "cell_type": "code",
   "execution_count": 2,
   "metadata": {
    "collapsed": false
   },
   "outputs": [],
   "source": [
    "#import packages\n",
    "import markovify #https://github.com/jsvine/markovify\n",
    "import pandas as pd"
   ]
  },
  {
   "cell_type": "code",
   "execution_count": 3,
   "metadata": {
    "collapsed": false
   },
   "outputs": [],
   "source": [
    "#override part of markovify Text Class to remove punctionation, numbers, and change all to lower case\n",
    "import nltk\n",
    "import re\n",
    "\n",
    "class ModifiedText(markovify.Text):\n",
    "   # word_split_pattern = re.compile(r\"\\s+|“+|”+|‘+|’+|'+|,\")\n",
    "    word_split_pattern = re.compile(r\"\\W|\\d\")\n",
    "    def word_split(self, sentence):\n",
    "        \"\"\"\n",
    "        Splits a sentence into a list of words.\n",
    "        \"\"\"\n",
    "        words = re.split(self.word_split_pattern, sentence) \n",
    "        words = list(filter(None,words))\n",
    "        \n",
    "        words=[w.lower() for w in words]\n",
    "        return words"
   ]
  },
  {
   "cell_type": "code",
   "execution_count": 4,
   "metadata": {
    "collapsed": true
   },
   "outputs": [],
   "source": [
    "#create markov chain in the form of nested dictionaries: {(n-gram):{next_word:count}}\n",
    "#state size = n in n-gram\n",
    "#create transition matrix dataframe from chain\n",
    "def create_MV_df(filename,state_size = 1, remove_punc = False):\n",
    "    with open(filename) as f:\n",
    "        text = f.read()\n",
    "    f.close()\n",
    "    if remove_punc:\n",
    "        text_model = ModifiedText(text,state_size)\n",
    "    else:\n",
    "        text_model = markovify.Text(text,state_size=1)\n",
    "    \n",
    "    chain = text_model.chain.model\n",
    "    trans_matrix =pd.DataFrame.from_dict(chain)\n",
    "    return  trans_matrix "
   ]
  },
  {
   "cell_type": "code",
   "execution_count": 27,
   "metadata": {
    "collapsed": false,
    "scrolled": true
   },
   "outputs": [],
   "source": [
    "def make_sentence(filename,state_size = 2, num_tries = 10, num_sentences = 3,max_overlap_ratio = .7, num_char = None, remove_punc = False):\n",
    "    with open(filename) as f:\n",
    "        text = f.read()\n",
    "    f.close()\n",
    "    if remove_punc:\n",
    "        text_model = ModifiedText(text,state_size)\n",
    "    else:\n",
    "        text_model = markovify.Text(text,state_size)\n",
    "    \n",
    "    chain = text_model.chain.model\n",
    "    #make sentences using chain\n",
    "    for i in range(num_sentences):\n",
    "        if num_char:\n",
    "            print(text_model.make_short_sentence(num_char))\n",
    "        else:\n",
    "            print(text_model.make_sentence(max_overlap_ratio = max_overlap_ratio,tries = num_tries))"
   ]
  },
  {
   "cell_type": "markdown",
   "metadata": {},
   "source": [
    "### Make Sentences using Chains"
   ]
  },
  {
   "cell_type": "code",
   "execution_count": 34,
   "metadata": {
    "collapsed": false,
    "scrolled": true
   },
   "outputs": [
    {
     "name": "stdout",
     "output_type": "stream",
     "text": [
      "For example, former FERC Commissioner Phillip Moeller left the commission to be a field representative for him in St. Charles and St. Louis.”\n",
      "“I have to admit; it was a great opportunity to work with what I consider one of the most prominent of the civil rights organizations.\n",
      "At the same time, the official said the State Department would approve or disapprove the sale.\n"
     ]
    }
   ],
   "source": [
    "make_sentence('data/breitbart_pol_feb_20_26.txt',state_size = 3,num_tries = 30)"
   ]
  },
  {
   "cell_type": "code",
   "execution_count": 20,
   "metadata": {
    "collapsed": false
   },
   "outputs": [
    {
     "name": "stdout",
     "output_type": "stream",
     "text": [
      "Mind you that made it its base for special-forces operations.\n",
      "Even if he follows tradition, Trump will decide to completely shake up the EPA could come sooner rather than later.\n",
      "Slapping restraints on the principle of religious tolerance.\n"
     ]
    }
   ],
   "source": [
    "make_sentence('data/fox_pol_feb_20_26.txt',state_size = 2,num_tries = 20, num_char = 140)"
   ]
  },
  {
   "cell_type": "code",
   "execution_count": 24,
   "metadata": {
    "collapsed": false,
    "scrolled": false
   },
   "outputs": [
    {
     "name": "stdout",
     "output_type": "stream",
     "text": [
      "“We appreciate that President Barack Obama.\n",
      "For all his talk of creating a framework for this,” he said.\n",
      "As Mr. Ryan and Representative Kevin Brady of Texas, chairman of Breitbart News, a website that has kept Europe at peace.\n"
     ]
    }
   ],
   "source": [
    "make_sentence('data/nyt_pol_feb_20_26.txt',state_size = 2,num_tries = 20, num_char = 140)"
   ]
  },
  {
   "cell_type": "code",
   "execution_count": 22,
   "metadata": {
    "collapsed": false
   },
   "outputs": [
    {
     "name": "stdout",
     "output_type": "stream",
     "text": [
      "Ivanka Trump, who converted to Judaism, tweeted about the so-called “border adjustment tax.”\n",
      "With a clear and all societal expectations.\n",
      "Poole had adapted a type of detention could be charged.\n"
     ]
    }
   ],
   "source": [
    "make_sentence('data/huffpost_pol_feb_20_26.txt',state_size = 2,num_tries = 20, num_char = 140)"
   ]
  },
  {
   "cell_type": "markdown",
   "metadata": {},
   "source": [
    "## Find Distance Between MCs"
   ]
  },
  {
   "cell_type": "code",
   "execution_count": 241,
   "metadata": {
    "collapsed": false
   },
   "outputs": [],
   "source": [
    "MC_bb =create_MV_df('data/breitbart_pol_feb_20_26.txt',1,True)"
   ]
  },
  {
   "cell_type": "code",
   "execution_count": 242,
   "metadata": {
    "collapsed": true
   },
   "outputs": [],
   "source": [
    "MC_fox =create_MV_df('data/fox_pol_feb_20_26.txt',1,True)"
   ]
  },
  {
   "cell_type": "code",
   "execution_count": 243,
   "metadata": {
    "collapsed": true
   },
   "outputs": [],
   "source": [
    "MC_nyt =create_MV_df('data/nyt_pol_feb_20_26.txt',1,True)"
   ]
  },
  {
   "cell_type": "code",
   "execution_count": 258,
   "metadata": {
    "collapsed": false
   },
   "outputs": [],
   "source": [
    "MC_hp =create_MV_df('data/huffpost_pol_feb_20_26.txt',1,True)"
   ]
  },
  {
   "cell_type": "code",
   "execution_count": 259,
   "metadata": {
    "collapsed": false
   },
   "outputs": [],
   "source": [
    "#for state = 2\n",
    "#chain[('in', 'the')]\n",
    "#trans_matrix['in']['the'][trans_matrix['in']['the'].notnull()]"
   ]
  },
  {
   "cell_type": "code",
   "execution_count": 260,
   "metadata": {
    "collapsed": false,
    "scrolled": false
   },
   "outputs": [
    {
     "name": "stdout",
     "output_type": "stream",
     "text": [
      "(5093, 5093)\n",
      "(5031, 5031)\n",
      "(5401, 5401)\n",
      "(5556, 5556)\n"
     ]
    }
   ],
   "source": [
    "print(MC_bb.shape)\n",
    "print(MC_fox.shape)\n",
    "print(MC_nyt.shape)\n",
    "print(MC_hp.shape)"
   ]
  },
  {
   "cell_type": "code",
   "execution_count": 261,
   "metadata": {
    "collapsed": true
   },
   "outputs": [],
   "source": [
    "MC_list = [MC_bb,MC_fox,MC_nyt,MC_hp]"
   ]
  },
  {
   "cell_type": "code",
   "execution_count": 262,
   "metadata": {
    "collapsed": false
   },
   "outputs": [],
   "source": [
    "x= pd.concat(MC_list, axis = 0,keys = ['1','2','3','4'])"
   ]
  },
  {
   "cell_type": "code",
   "execution_count": 263,
   "metadata": {
    "collapsed": true
   },
   "outputs": [],
   "source": [
    "y = pd.concat(MC_list,axis = 1,keys = ['1','2','3','4'])"
   ]
  },
  {
   "cell_type": "code",
   "execution_count": 264,
   "metadata": {
    "collapsed": true
   },
   "outputs": [],
   "source": [
    "x1=x.ix['1']\n",
    "x2=x.ix['2']\n",
    "x3=x.ix['3']\n",
    "x4=x.ix['4']"
   ]
  },
  {
   "cell_type": "code",
   "execution_count": 265,
   "metadata": {
    "collapsed": true
   },
   "outputs": [],
   "source": [
    "y1 = y['1']\n",
    "y2 = y['2']\n",
    "y3 = y['3']\n",
    "y4 = y['4']"
   ]
  },
  {
   "cell_type": "code",
   "execution_count": 268,
   "metadata": {
    "collapsed": false
   },
   "outputs": [],
   "source": [
    "full_bb = pd.concat([x1,y1],axis=1,keys = ['1','2'])['1']\n",
    "full_fox = pd.concat([x2,y2],axis=1,keys = ['1','2'])['1']\n",
    "full_nyt = pd.concat([x3,y3],axis=1,keys = ['1','2'])['1']\n",
    "full_hp = pd.concat([x4,y4],axis=1,keys = ['1','2'])['1']"
   ]
  },
  {
   "cell_type": "code",
   "execution_count": 95,
   "metadata": {
    "collapsed": true
   },
   "outputs": [],
   "source": [
    "import numpy as np"
   ]
  },
  {
   "cell_type": "code",
   "execution_count": 96,
   "metadata": {
    "collapsed": true
   },
   "outputs": [],
   "source": [
    "def df_to_mat(df):\n",
    "    df = df.fillna(0)\n",
    "    mat = df.as_matrix()\n",
    "    return mat"
   ]
  },
  {
   "cell_type": "code",
   "execution_count": 97,
   "metadata": {
    "collapsed": true
   },
   "outputs": [],
   "source": [
    "def get_prob_mat(mat):\n",
    "    return mat/np.sum(np.sum(mat,0))"
   ]
  },
  {
   "cell_type": "code",
   "execution_count": 269,
   "metadata": {
    "collapsed": false
   },
   "outputs": [],
   "source": [
    "bb_mat = df_to_mat(full_bb)\n",
    "fox_mat = df_to_mat(full_fox)\n",
    "nyt_mat = df_to_mat(full_nyt)\n",
    "hp_mat = df_to_mat(full_hp)"
   ]
  },
  {
   "cell_type": "code",
   "execution_count": 270,
   "metadata": {
    "collapsed": false
   },
   "outputs": [],
   "source": [
    "bb_mat_prob = get_prob_mat(bb_mat)\n",
    "fox_mat_prob = get_prob_mat(fox_mat)\n",
    "nyt_mat_prob = get_prob_mat(nyt_mat)\n",
    "hp_mat_prob = get_prob_mat(hp_mat)"
   ]
  },
  {
   "cell_type": "code",
   "execution_count": 316,
   "metadata": {
    "collapsed": true
   },
   "outputs": [],
   "source": [
    "def distance(a,b,norm = 'fro',before=True):\n",
    "    if before:\n",
    "        return np.linalg.norm(a-b,norm)\n",
    "    else:\n",
    "        return abs(np.linalg.norm(a,norm)-np.linalg.norm(b,norm))"
   ]
  },
  {
   "cell_type": "code",
   "execution_count": 317,
   "metadata": {
    "collapsed": true
   },
   "outputs": [],
   "source": [
    "def print_distances(mc_list,name_list,norm,measure_name,before = True):\n",
    "    print(\"Distance Measure:\", measure_name)\n",
    "    for i in range(len(mc_list)):\n",
    "        for j in range(i+1,len(mc_list)):\n",
    "            print(distance(mc_list[i],mc_list[j],norm,before),\": \",name_list[i],\"-\",name_list[j])\n",
    "            "
   ]
  },
  {
   "cell_type": "code",
   "execution_count": 318,
   "metadata": {
    "collapsed": true
   },
   "outputs": [],
   "source": [
    "name_list = [\"Breitbart\",\"Fox\",\"NYT\",\"HuffPost\"]\n",
    "mc_list = [bb_mat,fox_mat,nyt_mat,hp_mat]\n",
    "mc_list_prob = [bb_mat_prob,fox_mat_prob,nyt_mat_prob,hp_mat_prob]"
   ]
  },
  {
   "cell_type": "code",
   "execution_count": 319,
   "metadata": {
    "collapsed": false,
    "scrolled": true
   },
   "outputs": [
    {
     "name": "stdout",
     "output_type": "stream",
     "text": [
      "Distance Measure: Frobenius Norm\n",
      "375.598189559 :  Breitbart - Fox\n",
      "653.606915508 :  Breitbart - NYT\n",
      "385.075317308 :  Breitbart - HuffPost\n",
      "640.156230931 :  Fox - NYT\n",
      "330.797521152 :  Fox - HuffPost\n",
      "630.102372635 :  NYT - HuffPost\n"
     ]
    }
   ],
   "source": [
    "print_distances(mc_list,name_list,'fro',\"Frobenius Norm\")"
   ]
  },
  {
   "cell_type": "code",
   "execution_count": 320,
   "metadata": {
    "collapsed": false,
    "scrolled": true
   },
   "outputs": [
    {
     "name": "stdout",
     "output_type": "stream",
     "text": [
      "Distance Measure: Frobenius Norm (Probability)\n",
      "0.0114709460971 :  Breitbart - Fox\n",
      "0.0152104323377 :  Breitbart - NYT\n",
      "0.0109352647244 :  Breitbart - HuffPost\n",
      "0.0146409541173 :  Fox - NYT\n",
      "0.00971115094858 :  Fox - HuffPost\n",
      "0.0141400050243 :  NYT - HuffPost\n"
     ]
    }
   ],
   "source": [
    "print_distances(mc_list_prob,name_list,'fro',\"Frobenius Norm (Probability)\")"
   ]
  },
  {
   "cell_type": "code",
   "execution_count": 323,
   "metadata": {
    "collapsed": false,
    "scrolled": true
   },
   "outputs": [],
   "source": [
    "#print_distances(mc_list_prob,name_list,'fro',\"Diff Between Each Frobenius Norm (Probability)\",False)"
   ]
  },
  {
   "cell_type": "code",
   "execution_count": 324,
   "metadata": {
    "collapsed": false,
    "scrolled": true
   },
   "outputs": [],
   "source": [
    "#print_distances(mc_list_prob,name_list,np.inf,\"Max Norm(Prob)\")"
   ]
  },
  {
   "cell_type": "code",
   "execution_count": null,
   "metadata": {
    "collapsed": true
   },
   "outputs": [],
   "source": []
  }
 ],
 "metadata": {
  "kernelspec": {
   "display_name": "Python [Root]",
   "language": "python",
   "name": "Python [Root]"
  },
  "language_info": {
   "codemirror_mode": {
    "name": "ipython",
    "version": 3
   },
   "file_extension": ".py",
   "mimetype": "text/x-python",
   "name": "python",
   "nbconvert_exporter": "python",
   "pygments_lexer": "ipython3",
   "version": "3.5.2"
  }
 },
 "nbformat": 4,
 "nbformat_minor": 2
}
